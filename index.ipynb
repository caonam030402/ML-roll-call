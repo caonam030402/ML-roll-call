{
 "cells": [
  {
   "cell_type": "markdown",
   "metadata": {},
   "source": [
    "#### 1.1 Import Dependencies"
   ]
  },
  {
   "cell_type": "code",
   "execution_count": 4,
   "metadata": {},
   "outputs": [],
   "source": [
    "import cv2\n",
    "import os\n",
    "import random\n",
    "import numpy as np\n",
    "from matplotlib import pyplot as plt\n",
    "\n",
    "#import tensorflow dependencies - functional API\n",
    "from tensorflow.keras.models import Model\n",
    "from tensorflow.keras.layers import Layer, Conv2D, Dense, MaxPooling2D, Input, Flatten\n",
    "import tensorflow as tf"
   ]
  },
  {
   "cell_type": "markdown",
   "metadata": {},
   "source": [
    "#### 1.2 Set GPU Growth"
   ]
  },
  {
   "cell_type": "code",
   "execution_count": 5,
   "metadata": {},
   "outputs": [],
   "source": [
    "gpus = tf.config.experimental.list_physical_devices('GPU')\n",
    "for gpu in gpus:\n",
    "    tf.config.experimental.set_memory_growth(gpu, True)"
   ]
  },
  {
   "cell_type": "markdown",
   "metadata": {},
   "source": [
    "#### 1.3 Folder Structure"
   ]
  },
  {
   "cell_type": "code",
   "execution_count": 6,
   "metadata": {},
   "outputs": [],
   "source": [
    "REGISTERED_PATH = os.path.join('data', 'registered')\n",
    "PROCESSED_PATH = os.path.join('data', 'processed')\n",
    "os.makedirs(REGISTERED_PATH, exist_ok=True)\n",
    "os.makedirs(PROCESSED_PATH, exist_ok=True)"
   ]
  },
  {
   "cell_type": "markdown",
   "metadata": {},
   "source": [
    "#### 1.4 Data collection function"
   ]
  },
  {
   "cell_type": "code",
   "execution_count": 10,
   "metadata": {},
   "outputs": [
    {
     "data": {
      "text/plain": [
       "'data\\\\registered\\\\e47da1ba-8fd3-11ef-8808-3c9c0f7c711b.jpg'"
      ]
     },
     "execution_count": 10,
     "metadata": {},
     "output_type": "execute_result"
    }
   ],
   "source": [
    "import uuid\n"
   ]
  },
  {
   "cell_type": "code",
   "execution_count": 29,
   "metadata": {},
   "outputs": [
    {
     "name": "stdout",
     "output_type": "stream",
     "text": [
      "Saved data\\registered\\user_folder_name\\user_142b8cf7-8fd7-11ef-bfc9-3c9c0f7c711b.jpg\n"
     ]
    }
   ],
   "source": [
    "def collect_faces(user_id, name):\n",
    "    cap = cv2.VideoCapture(0)\n",
    "\n",
    "    if not cap.isOpened():\n",
    "        print(\"Can't open camera.\")\n",
    "        return\n",
    "\n",
    "    user_folder = os.path.join(REGISTERED_PATH, name)  \n",
    "    os.makedirs(user_folder, exist_ok=True)  \n",
    "\n",
    "    save_path = os.path.join(user_folder, f'user_{user_id}.jpg')  \n",
    "\n",
    "    while True:\n",
    "        ret, frame = cap.read()\n",
    "        if not ret:\n",
    "            print(\"Can't receive frame.\")\n",
    "            break\n",
    "\n",
    "        cv2.imshow('Camera', frame)\n",
    "\n",
    "        key = cv2.waitKey(1) & 0xFF\n",
    "        if key == ord('c'):\n",
    "            cv2.imwrite(save_path, frame) \n",
    "            print(f\"Saved {save_path}\")\n",
    "            break\n",
    "        elif key == ord('q'):\n",
    "            break\n",
    "\n",
    "    cap.release()\n",
    "    cv2.destroyAllWindows()\n",
    "\n",
    "    process_and_save_image(save_path) \n",
    "\n",
    "def process_and_save_image(img_path):\n",
    "    img = cv2.imread(img_path)\n",
    "\n",
    "    augmented_images = data_aug(img)\n",
    "\n",
    "    user_folder = os.path.dirname(img_path) \n",
    "\n",
    "    for image in augmented_images:\n",
    "        save_path = os.path.join(user_folder, '{}.jpg'.format(uuid.uuid1())) \n",
    "        cv2.imwrite(save_path, image.numpy()) \n",
    "user_id = uuid.uuid1() \n",
    "folder_name = \"user_folder_name\"\n",
    "collect_faces(user_id, folder_name)\n"
   ]
  },
  {
   "cell_type": "markdown",
   "metadata": {},
   "source": [
    "## 3. Load and Preprocess Images"
   ]
  },
  {
   "cell_type": "markdown",
   "metadata": {},
   "source": [
    "3.1 Get Image Directories"
   ]
  },
  {
   "cell_type": "code",
   "execution_count": 32,
   "metadata": {},
   "outputs": [
    {
     "name": "stdout",
     "output_type": "stream",
     "text": [
      "data\\registered\\user_folder_name\\user_142b8cf7-8fd7-11ef-bfc9-3c9c0f7c711b.jpg\n"
     ]
    }
   ],
   "source": [
    "user_folder_path = os.path.join(REGISTERED_PATH, folder_name)\n",
    "\n",
    "registered = tf.data.Dataset.list_files(os.path.join(user_folder_path, '*.jpg')).take(3000)\n",
    "\n",
    "dir_test = registered.as_numpy_iterator()\n",
    "\n",
    "first_image_path = dir_test.next().decode('utf-8')"
   ]
  },
  {
   "cell_type": "markdown",
   "metadata": {},
   "source": [
    "3.2 Preprocessing - Scale and Resize"
   ]
  },
  {
   "cell_type": "code",
   "execution_count": null,
   "metadata": {},
   "outputs": [],
   "source": [
    "def preprocess(file_path):\n",
    "    \n",
    "    # Read in image from file path\n",
    "    byte_img = tf.io.read_file(file_path)\n",
    "    # Load in the image \n",
    "    img = tf.io.decode_jpeg(byte_img)\n",
    "    \n",
    "    # Preprocessing steps - resizing the image to be 100x100x3\n",
    "    img = tf.image.resize(img, (100,100))\n",
    "    # Scale image to be between 0 and 1 \n",
    "    img = img / 255.0\n",
    "\n",
    "    # Return image\n",
    "    return img"
   ]
  },
  {
   "cell_type": "code",
   "execution_count": null,
   "metadata": {},
   "outputs": [],
   "source": [
    "img = preprocess(first_image_path)"
   ]
  }
 ],
 "metadata": {
  "kernelspec": {
   "display_name": "Python 3",
   "language": "python",
   "name": "python3"
  },
  "language_info": {
   "codemirror_mode": {
    "name": "ipython",
    "version": 3
   },
   "file_extension": ".py",
   "mimetype": "text/x-python",
   "name": "python",
   "nbconvert_exporter": "python",
   "pygments_lexer": "ipython3",
   "version": "3.11.5"
  }
 },
 "nbformat": 4,
 "nbformat_minor": 2
}
